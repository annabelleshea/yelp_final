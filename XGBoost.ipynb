{
  "nbformat": 4,
  "nbformat_minor": 0,
  "metadata": {
    "colab": {
      "provenance": [],
      "authorship_tag": "ABX9TyOTABklO9OPlG64r1jGgYn1",
      "include_colab_link": true
    },
    "kernelspec": {
      "name": "python3",
      "display_name": "Python 3"
    },
    "language_info": {
      "name": "python"
    }
  },
  "cells": [
    {
      "cell_type": "markdown",
      "metadata": {
        "id": "view-in-github",
        "colab_type": "text"
      },
      "source": [
        "<a href=\"https://colab.research.google.com/github/annabelleshea/yelp_final/blob/main/XGBoost.ipynb\" target=\"_parent\"><img src=\"https://colab.research.google.com/assets/colab-badge.svg\" alt=\"Open In Colab\"/></a>"
      ]
    },
    {
      "cell_type": "code",
      "source": [
        "import pandas as pd\n",
        "from xgboost import XGBRegressor\n",
        "from sklearn.pipeline import Pipeline\n",
        "from sklearn.preprocessing import StandardScaler\n",
        "from sklearn.model_selection import GridSearchCV\n",
        "from sklearn.metrics import mean_squared_error\n",
        "from sklearn.metrics import mean_squared_error, mean_absolute_error, r2_score"
      ],
      "metadata": {
        "id": "fb8tAuZsrmm8"
      },
      "execution_count": 10,
      "outputs": []
    },
    {
      "cell_type": "code",
      "execution_count": 1,
      "metadata": {
        "colab": {
          "base_uri": "https://localhost:8080/"
        },
        "id": "xSElbLdtrQVP",
        "outputId": "cf888b6e-e663-4dae-b27e-a9831ca05135"
      },
      "outputs": [
        {
          "output_type": "stream",
          "name": "stdout",
          "text": [
            "Mounted at /content/drive\n"
          ]
        }
      ],
      "source": [
        "from google.colab import drive\n",
        "drive.mount('/content/drive')"
      ]
    },
    {
      "cell_type": "code",
      "source": [
        "data = pd.read_csv('/content/drive/MyDrive/MGSC 410 Final Project/cleaned_data.csv')"
      ],
      "metadata": {
        "id": "mhomMdyQrtWq"
      },
      "execution_count": 3,
      "outputs": []
    },
    {
      "cell_type": "code",
      "source": [
        "# Drop rows with missing values\n",
        "data = data.dropna(subset=['user_rating_variance'])"
      ],
      "metadata": {
        "id": "E2vSiSj6rvhR"
      },
      "execution_count": 4,
      "outputs": []
    },
    {
      "cell_type": "code",
      "source": [
        "# Define features\n",
        "features = [\n",
        "    'review_count_x', 'average_stars', 'restaurant_review_count', 'latitude',\n",
        "    'is_open', 'longitude',\n",
        "    'Alcohol_full_bar', 'Alcohol_beer_and_wine',\n",
        "    'RestaurantsDelivery',\n",
        "    'HasTV',\n",
        "    'RestaurantsTableService', 'RestaurantsGoodForGroups', 'DriveThru',\n",
        "    'Parking_street',\n",
        "    'touristy',\n",
        "    'intimate', 'classy', 'RestaurantsAttire_casual',\n",
        "    'user_AvgRestaurantCat_rating', 'latenight',\n",
        "    'sentiment_score', 'hour_of_day',\n",
        "    'is_weekend', 'is_in_best_food_city'\n",
        "]\n",
        "\n",
        "# Prepare the data\n",
        "\n",
        "def prepare_time_aware_split(data):\n",
        "    data['date'] = pd.to_datetime(data['date'])\n",
        "    data_sorted = data.sort_values(['user_id', 'date'])\n",
        "\n",
        "    test_mask = data_sorted.groupby('user_id')['date'].transform('max') == data_sorted['date']\n",
        "    X_test = data_sorted[test_mask][features]\n",
        "    y_test = data_sorted[test_mask]['rating']\n",
        "\n",
        "    train_cv_data = data_sorted[~test_mask]\n",
        "\n",
        "    cv_mask = train_cv_data.groupby('user_id')['date'].transform('max') == train_cv_data['date']\n",
        "    X_cv = train_cv_data[cv_mask][features]\n",
        "    y_cv = train_cv_data[cv_mask]['rating']\n",
        "\n",
        "    X_train = train_cv_data[~cv_mask][features]\n",
        "    y_train = train_cv_data[~cv_mask]['rating']\n",
        "\n",
        "    return X_train, y_train, X_cv, y_cv, X_test, y_test\n",
        "\n",
        "# Sample data\n",
        "sample_data = data.sample(n=50000, random_state=42)  # Randomly sample 50,000 rows\n",
        "X_train, y_train, X_cv, y_cv, X_test, y_test = prepare_time_aware_split(sample_data)\n",
        "\n",
        "# Define pipeline\n",
        "pipeline = Pipeline([\n",
        "    ('scaler', StandardScaler()),\n",
        "    ('xgb', XGBRegressor(objective='reg:squarederror', eval_metric='rmse'))\n",
        "])\n",
        "\n",
        "# Define parameter grid\n",
        "param_grid = {\n",
        "    'xgb__n_estimators': [100, 200, 300],\n",
        "    'xgb__max_depth': [3, 5, 7],\n",
        "    'xgb__learning_rate': [0.01, 0.05, 0.1],\n",
        "    'xgb__subsample': [0.6, 0.8, 1.0],\n",
        "    'xgb__colsample_bytree': [0.6, 0.8, 1.0],\n",
        "    'xgb__gamma': [0, 0.1, 0.2]\n",
        "}\n",
        "\n",
        "from sklearn.model_selection import RandomizedSearchCV\n",
        "\n",
        "random_search = RandomizedSearchCV(\n",
        "    pipeline,\n",
        "    param_distributions=param_grid,\n",
        "    n_iter=100,  # Test only 100 combinations\n",
        "    scoring='neg_mean_squared_error',\n",
        "    cv=5,\n",
        "    n_jobs=-1,\n",
        "    random_state=42\n",
        ")\n",
        "random_search.fit(X_train, y_train)\n",
        "\n",
        "\n",
        "# Train the model\n",
        "random_search.fit(X_train, y_train)\n",
        "\n",
        "# Output the best hyperparameters\n",
        "print(\"Best parameters from GridSearchCV:\", random_search.best_params_)\n",
        "\n",
        "# Evaluate the model\n",
        "best_model = random_search.best_estimator_\n",
        "y_pred = best_model.predict(X_test)\n",
        "test_mse = mean_squared_error(y_test, y_pred)\n",
        "print(\"Test MSE:\", test_mse)"
      ],
      "metadata": {
        "id": "ghgXBEh5sTnL"
      },
      "execution_count": null,
      "outputs": []
    },
    {
      "cell_type": "code",
      "source": [
        "r2 = r2_score(y_test, y_pred)\n",
        "rmse = mean_squared_error(y_test, y_pred, squared=False)\n",
        "mae = mean_absolute_error(y_test, y_pred)\n",
        "\n",
        "print(f\"Test RMSE: {rmse}\")\n",
        "print(f\"Test MAE: {mae}\")\n",
        "print(f\"Test R²: {r2}\")"
      ],
      "metadata": {
        "collapsed": true,
        "id": "mQDK9RlesdUR"
      },
      "execution_count": null,
      "outputs": []
    }
  ]
}