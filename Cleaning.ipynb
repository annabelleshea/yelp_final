{
  "cells": [
    {
      "cell_type": "markdown",
      "metadata": {
        "id": "view-in-github",
        "colab_type": "text"
      },
      "source": [
        "<a href=\"https://colab.research.google.com/github/annabelleshea/yelp_final/blob/main/Cleaning.ipynb\" target=\"_parent\"><img src=\"https://colab.research.google.com/assets/colab-badge.svg\" alt=\"Open In Colab\"/></a>"
      ]
    },
    {
      "cell_type": "code",
      "source": [
        "pip install dask[dataframe]"
      ],
      "metadata": {
        "colab": {
          "base_uri": "https://localhost:8080/"
        },
        "id": "IN4Xue2frHcB",
        "outputId": "0a4d5aae-c0b2-48d0-a8e8-e43ff19a8c0b"
      },
      "execution_count": null,
      "outputs": [
        {
          "output_type": "stream",
          "name": "stdout",
          "text": [
            "Requirement already satisfied: dask[dataframe] in /usr/local/lib/python3.10/dist-packages (2024.10.0)\n",
            "Requirement already satisfied: click>=8.1 in /usr/local/lib/python3.10/dist-packages (from dask[dataframe]) (8.1.7)\n",
            "Requirement already satisfied: cloudpickle>=3.0.0 in /usr/local/lib/python3.10/dist-packages (from dask[dataframe]) (3.1.0)\n",
            "Requirement already satisfied: fsspec>=2021.09.0 in /usr/local/lib/python3.10/dist-packages (from dask[dataframe]) (2024.10.0)\n",
            "Requirement already satisfied: packaging>=20.0 in /usr/local/lib/python3.10/dist-packages (from dask[dataframe]) (24.2)\n",
            "Requirement already satisfied: partd>=1.4.0 in /usr/local/lib/python3.10/dist-packages (from dask[dataframe]) (1.4.2)\n",
            "Requirement already satisfied: pyyaml>=5.3.1 in /usr/local/lib/python3.10/dist-packages (from dask[dataframe]) (6.0.2)\n",
            "Requirement already satisfied: toolz>=0.10.0 in /usr/local/lib/python3.10/dist-packages (from dask[dataframe]) (0.12.1)\n",
            "Requirement already satisfied: importlib-metadata>=4.13.0 in /usr/local/lib/python3.10/dist-packages (from dask[dataframe]) (8.5.0)\n",
            "Requirement already satisfied: pandas>=2.0 in /usr/local/lib/python3.10/dist-packages (from dask[dataframe]) (2.2.2)\n",
            "Collecting dask-expr<1.2,>=1.1 (from dask[dataframe])\n",
            "  Downloading dask_expr-1.1.20-py3-none-any.whl.metadata (2.6 kB)\n",
            "INFO: pip is looking at multiple versions of dask-expr to determine which version is compatible with other requirements. This could take a while.\n",
            "  Downloading dask_expr-1.1.19-py3-none-any.whl.metadata (2.6 kB)\n",
            "  Downloading dask_expr-1.1.18-py3-none-any.whl.metadata (2.6 kB)\n",
            "  Downloading dask_expr-1.1.16-py3-none-any.whl.metadata (2.5 kB)\n",
            "Requirement already satisfied: pyarrow>=14.0.1 in /usr/local/lib/python3.10/dist-packages (from dask-expr<1.2,>=1.1->dask[dataframe]) (17.0.0)\n",
            "Requirement already satisfied: zipp>=3.20 in /usr/local/lib/python3.10/dist-packages (from importlib-metadata>=4.13.0->dask[dataframe]) (3.21.0)\n",
            "Requirement already satisfied: numpy>=1.22.4 in /usr/local/lib/python3.10/dist-packages (from pandas>=2.0->dask[dataframe]) (1.26.4)\n",
            "Requirement already satisfied: python-dateutil>=2.8.2 in /usr/local/lib/python3.10/dist-packages (from pandas>=2.0->dask[dataframe]) (2.8.2)\n",
            "Requirement already satisfied: pytz>=2020.1 in /usr/local/lib/python3.10/dist-packages (from pandas>=2.0->dask[dataframe]) (2024.2)\n",
            "Requirement already satisfied: tzdata>=2022.7 in /usr/local/lib/python3.10/dist-packages (from pandas>=2.0->dask[dataframe]) (2024.2)\n",
            "Requirement already satisfied: locket in /usr/local/lib/python3.10/dist-packages (from partd>=1.4.0->dask[dataframe]) (1.0.0)\n",
            "Requirement already satisfied: six>=1.5 in /usr/local/lib/python3.10/dist-packages (from python-dateutil>=2.8.2->pandas>=2.0->dask[dataframe]) (1.16.0)\n",
            "Downloading dask_expr-1.1.16-py3-none-any.whl (243 kB)\n",
            "\u001b[2K   \u001b[90m━━━━━━━━━━━━━━━━━━━━━━━━━━━━━━━━━━━━━━━━\u001b[0m \u001b[32m243.2/243.2 kB\u001b[0m \u001b[31m4.4 MB/s\u001b[0m eta \u001b[36m0:00:00\u001b[0m\n",
            "\u001b[?25hInstalling collected packages: dask-expr\n",
            "Successfully installed dask-expr-1.1.16\n"
          ]
        }
      ]
    },
    {
      "cell_type": "code",
      "execution_count": null,
      "metadata": {
        "id": "tXEYtaVdQkgY"
      },
      "outputs": [],
      "source": [
        "import pandas as pd\n",
        "import dask.dataframe as dd\n",
        "import ast  # For safely evaluating dictionary-like strings"
      ]
    },
    {
      "cell_type": "code",
      "execution_count": null,
      "metadata": {
        "colab": {
          "base_uri": "https://localhost:8080/"
        },
        "id": "NnQDaScVEMKo",
        "outputId": "fcfba600-fde1-410e-890f-bbc874d1b4f1"
      },
      "outputs": [
        {
          "output_type": "stream",
          "name": "stdout",
          "text": [
            "Mounted at /content/drive\n"
          ]
        }
      ],
      "source": [
        "from google.colab import drive\n",
        "drive.mount('/content/drive')"
      ]
    },
    {
      "cell_type": "code",
      "execution_count": null,
      "metadata": {
        "collapsed": true,
        "id": "60ttQbyKCnXz"
      },
      "outputs": [],
      "source": [
        "data = pd.read_csv('/content/drive/MyDrive/MGSC 410 Final Project/restaurants.csv')"
      ]
    },
    {
      "cell_type": "code",
      "execution_count": null,
      "metadata": {
        "colab": {
          "base_uri": "https://localhost:8080/",
          "height": 440
        },
        "id": "ziG9vm3cVoJ9",
        "outputId": "1bb1c761-9012-4d48-b891-0006037d71ae"
      },
      "outputs": [
        {
          "output_type": "execute_result",
          "data": {
            "text/plain": [
              "                  user_id             business_id  rating  \\\n",
              "0  4Uh27DgGzsp6PqrH913giQ  otQS34_MymijPTdNBoBdCw     4.0   \n",
              "1  WBpQDAZymU0dhIqXcACGNw  ut6fi2W2YaipNOqvi7e0jw     3.0   \n",
              "2  Jha0USGDMefGFRLik_xFQg  bMratNjTG5ZFEA6hVyr-xQ     5.0   \n",
              "3  yobeeTUBfaTBcnk26mXNuA  hKameFsaXh9g8WQbv593UA     4.0   \n",
              "4  G0DHgkSsDozqUPWtlxVEMw  oBhJuukGRqPVvYBfTkhuZA     4.0   \n",
              "\n",
              "                  date                                               text  \\\n",
              "0  2011-10-27 17:12:05  The bun makes the Sonoran Dog. It's like a snu...   \n",
              "1  2014-11-12 14:12:20  Upland is a brewery based out of Bloomington, ...   \n",
              "2  2017-02-19 13:32:05  First time there and it was excellent!!! It fe...   \n",
              "3  2015-04-15 15:30:48  Food was good- atmosphere/decor is like a fish...   \n",
              "4  2015-03-05 03:37:54  The only reason I didn't give this restaurant ...   \n",
              "\n",
              "   review_count_x        yelping_since  fans  average_stars          city  \\\n",
              "0              50  2009-09-29 22:24:04     2           4.27        Tucson   \n",
              "1             117  2012-11-05 19:15:16     2           3.17        Carmel   \n",
              "2             116  2016-09-17 17:19:31     1           4.47     Eddystone   \n",
              "3              30  2013-05-06 02:52:17     2           4.30          Lutz   \n",
              "4              68  2010-10-27 20:57:03     2           3.25  Philadelphia   \n",
              "\n",
              "   ... RestaurantsAttire_u'dressy'  RestaurantsAttire_u'formal'  \\\n",
              "0  ...                       False                        False   \n",
              "1  ...                       False                        False   \n",
              "2  ...                       False                        False   \n",
              "3  ...                       False                        False   \n",
              "4  ...                       False                        False   \n",
              "\n",
              "   Alcohol_'beer_and_wine'  Alcohol_'full_bar'  Alcohol_'none'  Alcohol_none  \\\n",
              "0                    False                True           False         False   \n",
              "1                     True               False           False         False   \n",
              "2                    False               False           False         False   \n",
              "3                    False               False           False         False   \n",
              "4                    False               False           False         False   \n",
              "\n",
              "  Alcohol_u'beer_and_wine'  Alcohol_u'full_bar'  Alcohol_u'none'  \\\n",
              "0                    False                False            False   \n",
              "1                    False                False            False   \n",
              "2                    False                False             True   \n",
              "3                    False                 True            False   \n",
              "4                    False                 True            False   \n",
              "\n",
              "   sentiment_score  \n",
              "0           0.9764  \n",
              "1           0.9633  \n",
              "2           0.9410  \n",
              "3           0.8625  \n",
              "4           0.9305  \n",
              "\n",
              "[5 rows x 58 columns]"
            ],
            "text/html": [
              "\n",
              "  <div id=\"df-1d5e3d0b-61f3-4065-9f67-43944826ebdf\" class=\"colab-df-container\">\n",
              "    <div>\n",
              "<style scoped>\n",
              "    .dataframe tbody tr th:only-of-type {\n",
              "        vertical-align: middle;\n",
              "    }\n",
              "\n",
              "    .dataframe tbody tr th {\n",
              "        vertical-align: top;\n",
              "    }\n",
              "\n",
              "    .dataframe thead th {\n",
              "        text-align: right;\n",
              "    }\n",
              "</style>\n",
              "<table border=\"1\" class=\"dataframe\">\n",
              "  <thead>\n",
              "    <tr style=\"text-align: right;\">\n",
              "      <th></th>\n",
              "      <th>user_id</th>\n",
              "      <th>business_id</th>\n",
              "      <th>rating</th>\n",
              "      <th>date</th>\n",
              "      <th>text</th>\n",
              "      <th>review_count_x</th>\n",
              "      <th>yelping_since</th>\n",
              "      <th>fans</th>\n",
              "      <th>average_stars</th>\n",
              "      <th>city</th>\n",
              "      <th>...</th>\n",
              "      <th>RestaurantsAttire_u'dressy'</th>\n",
              "      <th>RestaurantsAttire_u'formal'</th>\n",
              "      <th>Alcohol_'beer_and_wine'</th>\n",
              "      <th>Alcohol_'full_bar'</th>\n",
              "      <th>Alcohol_'none'</th>\n",
              "      <th>Alcohol_none</th>\n",
              "      <th>Alcohol_u'beer_and_wine'</th>\n",
              "      <th>Alcohol_u'full_bar'</th>\n",
              "      <th>Alcohol_u'none'</th>\n",
              "      <th>sentiment_score</th>\n",
              "    </tr>\n",
              "  </thead>\n",
              "  <tbody>\n",
              "    <tr>\n",
              "      <th>0</th>\n",
              "      <td>4Uh27DgGzsp6PqrH913giQ</td>\n",
              "      <td>otQS34_MymijPTdNBoBdCw</td>\n",
              "      <td>4.0</td>\n",
              "      <td>2011-10-27 17:12:05</td>\n",
              "      <td>The bun makes the Sonoran Dog. It's like a snu...</td>\n",
              "      <td>50</td>\n",
              "      <td>2009-09-29 22:24:04</td>\n",
              "      <td>2</td>\n",
              "      <td>4.27</td>\n",
              "      <td>Tucson</td>\n",
              "      <td>...</td>\n",
              "      <td>False</td>\n",
              "      <td>False</td>\n",
              "      <td>False</td>\n",
              "      <td>True</td>\n",
              "      <td>False</td>\n",
              "      <td>False</td>\n",
              "      <td>False</td>\n",
              "      <td>False</td>\n",
              "      <td>False</td>\n",
              "      <td>0.9764</td>\n",
              "    </tr>\n",
              "    <tr>\n",
              "      <th>1</th>\n",
              "      <td>WBpQDAZymU0dhIqXcACGNw</td>\n",
              "      <td>ut6fi2W2YaipNOqvi7e0jw</td>\n",
              "      <td>3.0</td>\n",
              "      <td>2014-11-12 14:12:20</td>\n",
              "      <td>Upland is a brewery based out of Bloomington, ...</td>\n",
              "      <td>117</td>\n",
              "      <td>2012-11-05 19:15:16</td>\n",
              "      <td>2</td>\n",
              "      <td>3.17</td>\n",
              "      <td>Carmel</td>\n",
              "      <td>...</td>\n",
              "      <td>False</td>\n",
              "      <td>False</td>\n",
              "      <td>True</td>\n",
              "      <td>False</td>\n",
              "      <td>False</td>\n",
              "      <td>False</td>\n",
              "      <td>False</td>\n",
              "      <td>False</td>\n",
              "      <td>False</td>\n",
              "      <td>0.9633</td>\n",
              "    </tr>\n",
              "    <tr>\n",
              "      <th>2</th>\n",
              "      <td>Jha0USGDMefGFRLik_xFQg</td>\n",
              "      <td>bMratNjTG5ZFEA6hVyr-xQ</td>\n",
              "      <td>5.0</td>\n",
              "      <td>2017-02-19 13:32:05</td>\n",
              "      <td>First time there and it was excellent!!! It fe...</td>\n",
              "      <td>116</td>\n",
              "      <td>2016-09-17 17:19:31</td>\n",
              "      <td>1</td>\n",
              "      <td>4.47</td>\n",
              "      <td>Eddystone</td>\n",
              "      <td>...</td>\n",
              "      <td>False</td>\n",
              "      <td>False</td>\n",
              "      <td>False</td>\n",
              "      <td>False</td>\n",
              "      <td>False</td>\n",
              "      <td>False</td>\n",
              "      <td>False</td>\n",
              "      <td>False</td>\n",
              "      <td>True</td>\n",
              "      <td>0.9410</td>\n",
              "    </tr>\n",
              "    <tr>\n",
              "      <th>3</th>\n",
              "      <td>yobeeTUBfaTBcnk26mXNuA</td>\n",
              "      <td>hKameFsaXh9g8WQbv593UA</td>\n",
              "      <td>4.0</td>\n",
              "      <td>2015-04-15 15:30:48</td>\n",
              "      <td>Food was good- atmosphere/decor is like a fish...</td>\n",
              "      <td>30</td>\n",
              "      <td>2013-05-06 02:52:17</td>\n",
              "      <td>2</td>\n",
              "      <td>4.30</td>\n",
              "      <td>Lutz</td>\n",
              "      <td>...</td>\n",
              "      <td>False</td>\n",
              "      <td>False</td>\n",
              "      <td>False</td>\n",
              "      <td>False</td>\n",
              "      <td>False</td>\n",
              "      <td>False</td>\n",
              "      <td>False</td>\n",
              "      <td>True</td>\n",
              "      <td>False</td>\n",
              "      <td>0.8625</td>\n",
              "    </tr>\n",
              "    <tr>\n",
              "      <th>4</th>\n",
              "      <td>G0DHgkSsDozqUPWtlxVEMw</td>\n",
              "      <td>oBhJuukGRqPVvYBfTkhuZA</td>\n",
              "      <td>4.0</td>\n",
              "      <td>2015-03-05 03:37:54</td>\n",
              "      <td>The only reason I didn't give this restaurant ...</td>\n",
              "      <td>68</td>\n",
              "      <td>2010-10-27 20:57:03</td>\n",
              "      <td>2</td>\n",
              "      <td>3.25</td>\n",
              "      <td>Philadelphia</td>\n",
              "      <td>...</td>\n",
              "      <td>False</td>\n",
              "      <td>False</td>\n",
              "      <td>False</td>\n",
              "      <td>False</td>\n",
              "      <td>False</td>\n",
              "      <td>False</td>\n",
              "      <td>False</td>\n",
              "      <td>True</td>\n",
              "      <td>False</td>\n",
              "      <td>0.9305</td>\n",
              "    </tr>\n",
              "  </tbody>\n",
              "</table>\n",
              "<p>5 rows × 58 columns</p>\n",
              "</div>\n",
              "    <div class=\"colab-df-buttons\">\n",
              "\n",
              "  <div class=\"colab-df-container\">\n",
              "    <button class=\"colab-df-convert\" onclick=\"convertToInteractive('df-1d5e3d0b-61f3-4065-9f67-43944826ebdf')\"\n",
              "            title=\"Convert this dataframe to an interactive table.\"\n",
              "            style=\"display:none;\">\n",
              "\n",
              "  <svg xmlns=\"http://www.w3.org/2000/svg\" height=\"24px\" viewBox=\"0 -960 960 960\">\n",
              "    <path d=\"M120-120v-720h720v720H120Zm60-500h600v-160H180v160Zm220 220h160v-160H400v160Zm0 220h160v-160H400v160ZM180-400h160v-160H180v160Zm440 0h160v-160H620v160ZM180-180h160v-160H180v160Zm440 0h160v-160H620v160Z\"/>\n",
              "  </svg>\n",
              "    </button>\n",
              "\n",
              "  <style>\n",
              "    .colab-df-container {\n",
              "      display:flex;\n",
              "      gap: 12px;\n",
              "    }\n",
              "\n",
              "    .colab-df-convert {\n",
              "      background-color: #E8F0FE;\n",
              "      border: none;\n",
              "      border-radius: 50%;\n",
              "      cursor: pointer;\n",
              "      display: none;\n",
              "      fill: #1967D2;\n",
              "      height: 32px;\n",
              "      padding: 0 0 0 0;\n",
              "      width: 32px;\n",
              "    }\n",
              "\n",
              "    .colab-df-convert:hover {\n",
              "      background-color: #E2EBFA;\n",
              "      box-shadow: 0px 1px 2px rgba(60, 64, 67, 0.3), 0px 1px 3px 1px rgba(60, 64, 67, 0.15);\n",
              "      fill: #174EA6;\n",
              "    }\n",
              "\n",
              "    .colab-df-buttons div {\n",
              "      margin-bottom: 4px;\n",
              "    }\n",
              "\n",
              "    [theme=dark] .colab-df-convert {\n",
              "      background-color: #3B4455;\n",
              "      fill: #D2E3FC;\n",
              "    }\n",
              "\n",
              "    [theme=dark] .colab-df-convert:hover {\n",
              "      background-color: #434B5C;\n",
              "      box-shadow: 0px 1px 3px 1px rgba(0, 0, 0, 0.15);\n",
              "      filter: drop-shadow(0px 1px 2px rgba(0, 0, 0, 0.3));\n",
              "      fill: #FFFFFF;\n",
              "    }\n",
              "  </style>\n",
              "\n",
              "    <script>\n",
              "      const buttonEl =\n",
              "        document.querySelector('#df-1d5e3d0b-61f3-4065-9f67-43944826ebdf button.colab-df-convert');\n",
              "      buttonEl.style.display =\n",
              "        google.colab.kernel.accessAllowed ? 'block' : 'none';\n",
              "\n",
              "      async function convertToInteractive(key) {\n",
              "        const element = document.querySelector('#df-1d5e3d0b-61f3-4065-9f67-43944826ebdf');\n",
              "        const dataTable =\n",
              "          await google.colab.kernel.invokeFunction('convertToInteractive',\n",
              "                                                    [key], {});\n",
              "        if (!dataTable) return;\n",
              "\n",
              "        const docLinkHtml = 'Like what you see? Visit the ' +\n",
              "          '<a target=\"_blank\" href=https://colab.research.google.com/notebooks/data_table.ipynb>data table notebook</a>'\n",
              "          + ' to learn more about interactive tables.';\n",
              "        element.innerHTML = '';\n",
              "        dataTable['output_type'] = 'display_data';\n",
              "        await google.colab.output.renderOutput(dataTable, element);\n",
              "        const docLink = document.createElement('div');\n",
              "        docLink.innerHTML = docLinkHtml;\n",
              "        element.appendChild(docLink);\n",
              "      }\n",
              "    </script>\n",
              "  </div>\n",
              "\n",
              "\n",
              "<div id=\"df-d8b25380-cfd7-4c4d-a886-4cc9bb680f7b\">\n",
              "  <button class=\"colab-df-quickchart\" onclick=\"quickchart('df-d8b25380-cfd7-4c4d-a886-4cc9bb680f7b')\"\n",
              "            title=\"Suggest charts\"\n",
              "            style=\"display:none;\">\n",
              "\n",
              "<svg xmlns=\"http://www.w3.org/2000/svg\" height=\"24px\"viewBox=\"0 0 24 24\"\n",
              "     width=\"24px\">\n",
              "    <g>\n",
              "        <path d=\"M19 3H5c-1.1 0-2 .9-2 2v14c0 1.1.9 2 2 2h14c1.1 0 2-.9 2-2V5c0-1.1-.9-2-2-2zM9 17H7v-7h2v7zm4 0h-2V7h2v10zm4 0h-2v-4h2v4z\"/>\n",
              "    </g>\n",
              "</svg>\n",
              "  </button>\n",
              "\n",
              "<style>\n",
              "  .colab-df-quickchart {\n",
              "      --bg-color: #E8F0FE;\n",
              "      --fill-color: #1967D2;\n",
              "      --hover-bg-color: #E2EBFA;\n",
              "      --hover-fill-color: #174EA6;\n",
              "      --disabled-fill-color: #AAA;\n",
              "      --disabled-bg-color: #DDD;\n",
              "  }\n",
              "\n",
              "  [theme=dark] .colab-df-quickchart {\n",
              "      --bg-color: #3B4455;\n",
              "      --fill-color: #D2E3FC;\n",
              "      --hover-bg-color: #434B5C;\n",
              "      --hover-fill-color: #FFFFFF;\n",
              "      --disabled-bg-color: #3B4455;\n",
              "      --disabled-fill-color: #666;\n",
              "  }\n",
              "\n",
              "  .colab-df-quickchart {\n",
              "    background-color: var(--bg-color);\n",
              "    border: none;\n",
              "    border-radius: 50%;\n",
              "    cursor: pointer;\n",
              "    display: none;\n",
              "    fill: var(--fill-color);\n",
              "    height: 32px;\n",
              "    padding: 0;\n",
              "    width: 32px;\n",
              "  }\n",
              "\n",
              "  .colab-df-quickchart:hover {\n",
              "    background-color: var(--hover-bg-color);\n",
              "    box-shadow: 0 1px 2px rgba(60, 64, 67, 0.3), 0 1px 3px 1px rgba(60, 64, 67, 0.15);\n",
              "    fill: var(--button-hover-fill-color);\n",
              "  }\n",
              "\n",
              "  .colab-df-quickchart-complete:disabled,\n",
              "  .colab-df-quickchart-complete:disabled:hover {\n",
              "    background-color: var(--disabled-bg-color);\n",
              "    fill: var(--disabled-fill-color);\n",
              "    box-shadow: none;\n",
              "  }\n",
              "\n",
              "  .colab-df-spinner {\n",
              "    border: 2px solid var(--fill-color);\n",
              "    border-color: transparent;\n",
              "    border-bottom-color: var(--fill-color);\n",
              "    animation:\n",
              "      spin 1s steps(1) infinite;\n",
              "  }\n",
              "\n",
              "  @keyframes spin {\n",
              "    0% {\n",
              "      border-color: transparent;\n",
              "      border-bottom-color: var(--fill-color);\n",
              "      border-left-color: var(--fill-color);\n",
              "    }\n",
              "    20% {\n",
              "      border-color: transparent;\n",
              "      border-left-color: var(--fill-color);\n",
              "      border-top-color: var(--fill-color);\n",
              "    }\n",
              "    30% {\n",
              "      border-color: transparent;\n",
              "      border-left-color: var(--fill-color);\n",
              "      border-top-color: var(--fill-color);\n",
              "      border-right-color: var(--fill-color);\n",
              "    }\n",
              "    40% {\n",
              "      border-color: transparent;\n",
              "      border-right-color: var(--fill-color);\n",
              "      border-top-color: var(--fill-color);\n",
              "    }\n",
              "    60% {\n",
              "      border-color: transparent;\n",
              "      border-right-color: var(--fill-color);\n",
              "    }\n",
              "    80% {\n",
              "      border-color: transparent;\n",
              "      border-right-color: var(--fill-color);\n",
              "      border-bottom-color: var(--fill-color);\n",
              "    }\n",
              "    90% {\n",
              "      border-color: transparent;\n",
              "      border-bottom-color: var(--fill-color);\n",
              "    }\n",
              "  }\n",
              "</style>\n",
              "\n",
              "  <script>\n",
              "    async function quickchart(key) {\n",
              "      const quickchartButtonEl =\n",
              "        document.querySelector('#' + key + ' button');\n",
              "      quickchartButtonEl.disabled = true;  // To prevent multiple clicks.\n",
              "      quickchartButtonEl.classList.add('colab-df-spinner');\n",
              "      try {\n",
              "        const charts = await google.colab.kernel.invokeFunction(\n",
              "            'suggestCharts', [key], {});\n",
              "      } catch (error) {\n",
              "        console.error('Error during call to suggestCharts:', error);\n",
              "      }\n",
              "      quickchartButtonEl.classList.remove('colab-df-spinner');\n",
              "      quickchartButtonEl.classList.add('colab-df-quickchart-complete');\n",
              "    }\n",
              "    (() => {\n",
              "      let quickchartButtonEl =\n",
              "        document.querySelector('#df-d8b25380-cfd7-4c4d-a886-4cc9bb680f7b button');\n",
              "      quickchartButtonEl.style.display =\n",
              "        google.colab.kernel.accessAllowed ? 'block' : 'none';\n",
              "    })();\n",
              "  </script>\n",
              "</div>\n",
              "\n",
              "    </div>\n",
              "  </div>\n"
            ],
            "application/vnd.google.colaboratory.intrinsic+json": {
              "type": "dataframe",
              "variable_name": "data"
            }
          },
          "metadata": {},
          "execution_count": 32
        }
      ],
      "source": [
        "data.head()"
      ]
    },
    {
      "cell_type": "code",
      "source": [
        "# See how many rows of data we started with\n",
        "print(len(data))"
      ],
      "metadata": {
        "id": "SkMRJ-rLuAUP",
        "colab": {
          "base_uri": "https://localhost:8080/"
        },
        "outputId": "1db711ea-ff7c-463e-de2a-79f352f43a56"
      },
      "execution_count": null,
      "outputs": [
        {
          "output_type": "stream",
          "name": "stdout",
          "text": [
            "698059\n"
          ]
        }
      ]
    },
    {
      "cell_type": "code",
      "execution_count": null,
      "metadata": {
        "id": "S1c8W8BCaJE_"
      },
      "outputs": [],
      "source": [
        "# Drop irrelevant columns in place\n",
        "data.drop(columns=['ByAppointmentOnly', 'BikeParking', 'CoatCheck', 'Caters', 'WiFi',\n",
        "                   'WheelchairAccessible', 'HappyHour', 'DogsAllowed', 'BusinessAcceptsBitcoin',\n",
        "                   'Smoking', 'Music', 'GoodForDancing', 'AcceptsInsurance', 'BestNights',\n",
        "                   'DietaryRestrictions', 'BYOBCorkage', 'HairSpecializesIn', 'AgesAllowed'], inplace=True)"
      ]
    },
    {
      "cell_type": "code",
      "source": [
        "# Drop rows with missing values\n",
        "data = data.dropna(subset=['NoiseLevel', 'BusinessParking',\n",
        "                           'Monday', 'Tuesday', 'Wednesday', 'Thursday',\n",
        "                           'Friday', 'Saturday', 'Sunday'])"
      ],
      "metadata": {
        "id": "XouKQlanoyhp"
      },
      "execution_count": null,
      "outputs": []
    },
    {
      "cell_type": "code",
      "source": [
        "# List of columns to impute with False\n",
        "columns_to_impute = [\n",
        "    'RestaurantsDelivery',\n",
        "    'OutdoorSeating',\n",
        "    'RestaurantsTableService',\n",
        "    'DriveThru',\n",
        "    'BYOB',\n",
        "    'Corkage',\n",
        "    'Open24Hours',\n",
        "    'RestaurantsCounterService',\n",
        "    'RestaurantsTakeOut',\n",
        "    'HasTV',\n",
        "    'GoodForKids',\n",
        "    'RestaurantsReservations',\n",
        "    'RestaurantsGoodForGroups'\n",
        "]\n",
        "\n",
        "# Impute missing values with False\n",
        "data[columns_to_impute] = data[columns_to_impute].fillna(False)"
      ],
      "metadata": {
        "colab": {
          "base_uri": "https://localhost:8080/"
        },
        "collapsed": true,
        "id": "laetwhQ7s157",
        "outputId": "9b540164-731c-441a-b577-95f09fc772c4"
      },
      "execution_count": null,
      "outputs": [
        {
          "output_type": "stream",
          "name": "stderr",
          "text": [
            "<ipython-input-8-e61ac42714af>:19: FutureWarning: Downcasting object dtype arrays on .fillna, .ffill, .bfill is deprecated and will change in a future version. Call result.infer_objects(copy=False) instead. To opt-in to the future behavior, set `pd.set_option('future.no_silent_downcasting', True)`\n",
            "  data[columns_to_impute] = data[columns_to_impute].fillna(False)\n"
          ]
        },
        {
          "output_type": "stream",
          "name": "stdout",
          "text": [
            "                       user_id             business_id  rating  \\\n",
            "1       4Uh27DgGzsp6PqrH913giQ  otQS34_MymijPTdNBoBdCw     4.0   \n",
            "2       WBpQDAZymU0dhIqXcACGNw  ut6fi2W2YaipNOqvi7e0jw     3.0   \n",
            "5       Jha0USGDMefGFRLik_xFQg  bMratNjTG5ZFEA6hVyr-xQ     5.0   \n",
            "7       yobeeTUBfaTBcnk26mXNuA  hKameFsaXh9g8WQbv593UA     4.0   \n",
            "8       G0DHgkSsDozqUPWtlxVEMw  oBhJuukGRqPVvYBfTkhuZA     4.0   \n",
            "...                        ...                     ...     ...   \n",
            "698053  fLTm9wRlUBEMqg0puABOTQ  8Sv9ohuIAWbElDj-empIsA     4.0   \n",
            "698055  UfevNSM_H14XXWZFlHYPoA  TNtcjnta11CpDebuBNdoug     2.0   \n",
            "698056  QYZM8lgZn2HL_OWYAn7E1A  nrXtCSdfWg0TJ86onEZWkg     4.0   \n",
            "698057  x1QLCwZGFAjxRRw4EHc3-g  1_BVWDzi5cVqWxNe9bOMMQ     5.0   \n",
            "698058  YwAMC-jvZ1fvEUum6QkEkw  Rr9kKArrMhSLVE9a53q-aA     5.0   \n",
            "\n",
            "                       date  \\\n",
            "1       2011-10-27 17:12:05   \n",
            "2       2014-11-12 14:12:20   \n",
            "5       2017-02-19 13:32:05   \n",
            "7       2015-04-15 15:30:48   \n",
            "8       2015-03-05 03:37:54   \n",
            "...                     ...   \n",
            "698053  2011-05-01 02:12:35   \n",
            "698055  2017-10-22 20:55:12   \n",
            "698056  2018-02-13 19:50:01   \n",
            "698057  2016-04-30 01:02:34   \n",
            "698058  2022-01-19 18:59:27   \n",
            "\n",
            "                                                     text  review_count_x  \\\n",
            "1       The bun makes the Sonoran Dog. It's like a snu...              50   \n",
            "2       Upland is a brewery based out of Bloomington, ...             117   \n",
            "5       First time there and it was excellent!!! It fe...             116   \n",
            "7       Food was good- atmosphere/decor is like a fish...              30   \n",
            "8       The only reason I didn't give this restaurant ...              68   \n",
            "...                                                   ...             ...   \n",
            "698053  On the recommendation of a friend who knew I l...             138   \n",
            "698055  Our waiter was good but a bit rushed. I didn't...              54   \n",
            "698056  Took a colleague here for dinner as we were tr...             413   \n",
            "698057  Don't misinterpret my 5-star review....I don't...             728   \n",
            "698058  For when I'm feeling like ignoring my calorie-...             281   \n",
            "\n",
            "              yelping_since  fans  average_stars          city  ... Corkage  \\\n",
            "1       2009-09-29 22:24:04     2           4.27        Tucson  ...   False   \n",
            "2       2012-11-05 19:15:16     2           3.17        Carmel  ...   False   \n",
            "5       2016-09-17 17:19:31     1           4.47     Eddystone  ...   False   \n",
            "7       2013-05-06 02:52:17     2           4.30          Lutz  ...   False   \n",
            "8       2010-10-27 20:57:03     2           3.25  Philadelphia  ...    True   \n",
            "...                     ...   ...            ...           ...  ...     ...   \n",
            "698053  2008-11-27 05:06:34    14           4.08   Garden City  ...   False   \n",
            "698055  2013-09-18 21:59:28     0           3.33        Fenton  ...   False   \n",
            "698056  2010-09-18 00:50:28    20           3.71   New Orleans  ...   False   \n",
            "698057  2011-05-11 01:22:53    34           4.37      St.Louis  ...   False   \n",
            "698058  2008-09-10 21:03:38    23           4.14  Indianapolis  ...   False   \n",
            "\n",
            "        Open24Hours  RestaurantsCounterService      Monday     Tuesday  \\\n",
            "1             False                      False     0:0-0:0   10:0-21:0   \n",
            "2             False                      False     0:0-0:0   11:0-22:0   \n",
            "5             False                      False  16:30-21:0  16:30-21:0   \n",
            "7             False                      False  11:30-21:0  11:30-21:0   \n",
            "8             False                      False     0:0-0:0   17:0-22:0   \n",
            "...             ...                        ...         ...         ...   \n",
            "698053        False                      False     0:0-0:0   11:0-21:0   \n",
            "698055        False                      False   11:0-21:0   11:0-21:0   \n",
            "698056        False                      False   11:0-22:0   11:0-22:0   \n",
            "698057        False                      False    10:0-1:0    10:0-1:0   \n",
            "698058        False                      False     0:0-0:0   11:0-21:0   \n",
            "\n",
            "         Wednesday    Thursday      Friday    Saturday      Sunday  \n",
            "1        10:0-21:0   10:0-22:0   10:0-15:0   10:0-23:0   10:0-21:0  \n",
            "2        11:0-22:0   11:0-22:0    11:0-0:0    11:0-0:0   11:0-22:0  \n",
            "5       16:30-21:0  16:30-21:0  16:30-22:0  16:30-22:0  16:30-21:0  \n",
            "7       11:30-21:0  11:30-21:0  11:30-22:0  11:30-22:0  11:30-21:0  \n",
            "8        17:0-22:0   17:0-22:0   17:0-22:0   17:0-22:0    9:0-14:0  \n",
            "...            ...         ...         ...         ...         ...  \n",
            "698053   11:0-21:0   11:0-21:0   11:0-22:0   11:0-22:0   12:0-20:0  \n",
            "698055   11:0-21:0   11:0-21:0   11:0-21:0   11:0-21:0   11:0-21:0  \n",
            "698056   11:0-22:0   11:0-22:0   11:0-22:0   11:0-22:0   11:0-22:0  \n",
            "698057    10:0-1:0    10:0-1:0    10:0-1:0    10:0-1:0    10:0-1:0  \n",
            "698058   11:0-21:0   11:0-21:0   11:0-20:0   12:0-20:0   12:0-20:0  \n",
            "\n",
            "[408732 rows x 45 columns]\n"
          ]
        }
      ]
    },
    {
      "cell_type": "code",
      "execution_count": null,
      "metadata": {
        "id": "l5WqPR-weDD4"
      },
      "outputs": [],
      "source": [
        "# # Set to display all rows\n",
        "# pd.set_option('display.max_rows', None)\n",
        "\n",
        "\n",
        "# # Reset to default after viewing if desired\n",
        "# pd.reset_option('display.max_rows')"
      ]
    },
    {
      "cell_type": "code",
      "execution_count": null,
      "metadata": {
        "colab": {
          "base_uri": "https://localhost:8080/"
        },
        "id": "0Fw8Z5Srd7kn",
        "outputId": "00d039aa-7a96-4434-b5c7-0688b65f7cd8",
        "collapsed": true
      },
      "outputs": [
        {
          "output_type": "stream",
          "name": "stdout",
          "text": [
            "Number of NaN values in each column:\n",
            "user_id                       0\n",
            "business_id                   0\n",
            "rating                        0\n",
            "date                          0\n",
            "text                          0\n",
            "review_count_x                0\n",
            "yelping_since                 0\n",
            "fans                          0\n",
            "average_stars                 0\n",
            "city                          0\n",
            "state                         0\n",
            "latitude                      0\n",
            "longitude                     0\n",
            "stars                         0\n",
            "restaurant_review_count       0\n",
            "is_open                       0\n",
            "categories                    0\n",
            "BusinessAcceptsCreditCards    0\n",
            "RestaurantsPriceRange2        0\n",
            "RestaurantsTakeOut            0\n",
            "RestaurantsDelivery           0\n",
            "BusinessParking               0\n",
            "OutdoorSeating                0\n",
            "HasTV                         0\n",
            "RestaurantsReservations       0\n",
            "GoodForKids                   0\n",
            "RestaurantsTableService       0\n",
            "RestaurantsGoodForGroups      0\n",
            "DriveThru                     0\n",
            "NoiseLevel                    0\n",
            "BYOB                          0\n",
            "Corkage                       0\n",
            "Open24Hours                   0\n",
            "RestaurantsCounterService     0\n",
            "Monday                        0\n",
            "Tuesday                       0\n",
            "Wednesday                     0\n",
            "Thursday                      0\n",
            "Friday                        0\n",
            "Saturday                      0\n",
            "Sunday                        0\n",
            "Alcohol_beer_and_wine         0\n",
            "Alcohol_full_bar              0\n",
            "Alcohol_nan                   0\n",
            "Alcohol_none                  0\n",
            "RestaurantsAttire_casual      0\n",
            "RestaurantsAttire_dressy      0\n",
            "RestaurantsAttire_formal      0\n",
            "RestaurantsAttire_nan         0\n",
            "touristy                      0\n",
            "hipster                       0\n",
            "romantic                      0\n",
            "divey                         0\n",
            "intimate                      0\n",
            "trendy                        0\n",
            "upscale                       0\n",
            "classy                        0\n",
            "casual                        0\n",
            "dessert                       0\n",
            "latenight                     0\n",
            "lunch                         0\n",
            "dinner                        0\n",
            "brunch                        0\n",
            "breakfast                     0\n",
            "dtype: int64\n"
          ]
        }
      ],
      "source": [
        "# Count the number of NaN values for each column\n",
        "nan_counts = data.isna().sum()\n",
        "\n",
        "# Display the count of NaN values\n",
        "print(\"Number of NaN values in each column:\")\n",
        "print(nan_counts)"
      ]
    },
    {
      "cell_type": "code",
      "source": [
        "# Drop rows with missing values\n",
        "data = data.dropna(subset=['BusinessAcceptsCreditCards', 'RestaurantsPriceRange2'])"
      ],
      "metadata": {
        "collapsed": true,
        "id": "SldwdEf7tjD3"
      },
      "execution_count": null,
      "outputs": []
    },
    {
      "cell_type": "code",
      "source": [
        "# See how many rows of data are left after cleaning\n",
        "print(len(data))"
      ],
      "metadata": {
        "colab": {
          "base_uri": "https://localhost:8080/"
        },
        "id": "59L9h6CWsKqb",
        "outputId": "42a6758f-64ed-43c6-8551-c8e0996b69ea"
      },
      "execution_count": null,
      "outputs": [
        {
          "output_type": "stream",
          "name": "stdout",
          "text": [
            "401194\n"
          ]
        }
      ]
    },
    {
      "cell_type": "code",
      "execution_count": null,
      "metadata": {
        "id": "mDebXGF_mUOy"
      },
      "outputs": [],
      "source": [
        "# Rename the restaurant review column for clarity\n",
        "data = data.rename(columns={\"review_count_y\": \"restaurant_review_count\"})"
      ]
    },
    {
      "cell_type": "markdown",
      "source": [
        "## Feature Engineering"
      ],
      "metadata": {
        "id": "ZkxNGziRIqz4"
      }
    },
    {
      "cell_type": "code",
      "source": [
        "# CREATING DUMMIES FOR ALCOHOL\n",
        "# Step 1: Remove the 'u' prefix and standardize values in the 'Alcohol' column\n",
        "data['Alcohol'] = data['Alcohol'].astype(str).str.replace(\"u'\", \"\").str.replace(\"'\", \"\").str.lower().str.strip()\n",
        "\n",
        "# Step 2: Impute missing values with 'none'\n",
        "data['Alcohol'] = data['Alcohol'].fillna('none')\n",
        "\n",
        "# # Step 3: Impute missing values (NaN) with 'none'\n",
        "# data['Alcohol'] = data['Alcohol'].replace('nan', 'none').fillna('none')\n",
        "\n",
        "# Step 4: Create dummy variables for 'full_bar', 'beer_and_wine', and 'none'\n",
        "alcohol_dummies = pd.get_dummies(data['Alcohol'], prefix='Alcohol', drop_first=False)\n",
        "\n",
        "# Step 5: Merge the dummy variables back into the original DataFrame\n",
        "data = pd.concat([data, alcohol_dummies], axis=1)\n",
        "\n",
        "# Step 6: Drop the original 'Alcohol' column if no longer needed\n",
        "data.drop(columns=['Alcohol'], inplace=True)"
      ],
      "metadata": {
        "id": "kWPlFz2_1g9x"
      },
      "execution_count": null,
      "outputs": []
    },
    {
      "cell_type": "code",
      "source": [
        "# CREATING DUMMIES FOR RESTAURANT ATTIRE\n",
        "# Step 1: Standardize values in the 'RestaurantsAttire' column\n",
        "data['RestaurantsAttire'] = data['RestaurantsAttire'].astype(str).str.replace(\"u'\", \"\").str.replace(\"'\", \"\").str.lower().str.strip()\n",
        "\n",
        "# Step 2: Replace non-standard values with NaN (if needed, ensure only 'casual', 'dressy', 'formal', or NaN remain)\n",
        "valid_attires = {'casual', 'dressy', 'formal'}\n",
        "data['RestaurantsAttire'] = data['RestaurantsAttire'].apply(lambda x: x if x in valid_attires else 'nan')\n",
        "\n",
        "# Step 3: Create dummy variables for 'casual', 'dressy', 'formal', and 'nan'\n",
        "attire_dummies = pd.get_dummies(data['RestaurantsAttire'], prefix='RestaurantsAttire', drop_first=False)\n",
        "\n",
        "# Step 4: Merge the dummy variables back into the original DataFrame\n",
        "data = pd.concat([data, attire_dummies], axis=1)\n",
        "\n",
        "# Step 5: Drop the original 'RestaurantsAttire' column if no longer needed\n",
        "data.drop(columns=['RestaurantsAttire'], inplace=True)"
      ],
      "metadata": {
        "id": "mnn4H4HjIvUF"
      },
      "execution_count": null,
      "outputs": []
    },
    {
      "cell_type": "code",
      "source": [
        "# CREATING DUMMIES FOR AMBIENCE\n",
        "# Step 1: Parse the Ambience column safely and ensure it's a dictionary (convert string to dict safely)\n",
        "data['Ambience'] = data['Ambience'].apply(lambda x: ast.literal_eval(x) if isinstance(x, str) else x or {})\n",
        "\n",
        "# Step 2: Ensure only None values are converted to False in the dictionary values\n",
        "ambience_categories = ['touristy', 'hipster', 'romantic', 'divey', 'intimate', 'trendy', 'upscale', 'classy', 'casual']\n",
        "for key in ambience_categories:\n",
        "    data['Ambience'] = data['Ambience'].apply(lambda x: {k: (False if v is None else v) for k, v in x.items()} if isinstance(x, dict) else x)\n",
        "\n",
        "# Step 3: Create dummy variables (True/False columns) for each category\n",
        "for category in ambience_categories:\n",
        "    data[category] = data['Ambience'].apply(lambda x: x.get(category, False) if isinstance(x, dict) else False)\n",
        "\n",
        "# Step 4: Drop the original Ambience column if no longer needed\n",
        "data.drop(columns=['Ambience'], inplace=True)"
      ],
      "metadata": {
        "collapsed": true,
        "id": "7_2Rzr_ZLCXT"
      },
      "execution_count": null,
      "outputs": []
    },
    {
      "cell_type": "code",
      "source": [
        "# CREATING DUMMIES FOR GOOD FOR MEAL\n",
        "# Step 1: Parse the GoodForMeal column safely and ensure it's a dictionary (convert string to dict safely)\n",
        "data['GoodForMeal'] = data['GoodForMeal'].apply(lambda x: ast.literal_eval(x) if isinstance(x, str) else x or {})\n",
        "\n",
        "# Step 2: Ensure only None values are converted to False in the dictionary values\n",
        "meal_categories = ['dessert', 'latenight', 'lunch', 'dinner', 'brunch', 'breakfast']\n",
        "for key in meal_categories:\n",
        "    data['GoodForMeal'] = data['GoodForMeal'].apply(lambda x: {k: (False if v is None else v) for k, v in x.items()} if isinstance(x, dict) else x)\n",
        "\n",
        "# Step 3: Create dummy variables (True/False columns) for each category\n",
        "for category in meal_categories:\n",
        "    data[category] = data['GoodForMeal'].apply(lambda x: x.get(category, False) if isinstance(x, dict) else False)\n",
        "\n",
        "# Step 4: Drop the original GoodForMeal column if no longer needed\n",
        "data.drop(columns=['GoodForMeal'], inplace=True)"
      ],
      "metadata": {
        "id": "QbP697t41zj4"
      },
      "execution_count": null,
      "outputs": []
    },
    {
      "cell_type": "code",
      "source": [
        "# CREATE DUMMY VARIABLES FOR BUSINESS PARKING\n",
        "# Step 1: Parse the `BusinessParking` column safely\n",
        "data['BusinessParking'] = data['BusinessParking'].apply(lambda x: ast.literal_eval(x) if isinstance(x, str) else x or {})\n",
        "\n",
        "# Step 2: Ensure `None` values are converted to `False` in the dictionary\n",
        "parking_categories = ['garage', 'street', 'validated', 'lot', 'valet']\n",
        "for key in parking_categories:\n",
        "    data['BusinessParking'] = data['BusinessParking'].apply(lambda x: {k: (False if v is None else v) for k, v in x.items()} if isinstance(x, dict) else x)\n",
        "\n",
        "# Step 3: Create dummy variables (True/False columns) for each parking category\n",
        "for category in parking_categories:\n",
        "    data[f'Parking_{category}'] = data['BusinessParking'].apply(lambda x: x.get(category, False) if isinstance(x, dict) else False)\n",
        "\n",
        "# Step 4: Drop the original `BusinessParking` column if no longer needed\n",
        "data.drop(columns=['BusinessParking'], inplace=True)"
      ],
      "metadata": {
        "id": "I9M5BldCNWSc"
      },
      "execution_count": null,
      "outputs": []
    },
    {
      "cell_type": "code",
      "source": [
        "# Feature Engineering: Average Rating Per User in the Same Restaurant Category\n",
        "data['categories'] = data['categories'].fillna(\"\").apply(lambda x: x.split(', '))\n",
        "exploded_data = data.explode('categories')"
      ],
      "metadata": {
        "id": "qxm2CiD0BwRo"
      },
      "execution_count": null,
      "outputs": []
    },
    {
      "cell_type": "code",
      "source": [
        "# Filter only \"Restaurants/Food\" category\n",
        "restaurant_food_data = exploded_data[\n",
        "    exploded_data['categories'].str.lower().isin(['restaurants', 'food'])\n",
        "]"
      ],
      "metadata": {
        "colab": {
          "base_uri": "https://localhost:8080/"
        },
        "collapsed": true,
        "id": "9wWlAWreB01X",
        "outputId": "77b1f335-a6e7-41cb-b114-ed7015e5aa6b"
      },
      "execution_count": null,
      "outputs": [
        {
          "output_type": "stream",
          "name": "stdout",
          "text": [
            "                  user_id             business_id  rating  \\\n",
            "0  4Uh27DgGzsp6PqrH913giQ  otQS34_MymijPTdNBoBdCw     4.0   \n",
            "1  WBpQDAZymU0dhIqXcACGNw  ut6fi2W2YaipNOqvi7e0jw     3.0   \n",
            "1  WBpQDAZymU0dhIqXcACGNw  ut6fi2W2YaipNOqvi7e0jw     3.0   \n",
            "2  Jha0USGDMefGFRLik_xFQg  bMratNjTG5ZFEA6hVyr-xQ     5.0   \n",
            "3  yobeeTUBfaTBcnk26mXNuA  hKameFsaXh9g8WQbv593UA     4.0   \n",
            "\n",
            "                  date                                               text  \\\n",
            "0  2011-10-27 17:12:05  The bun makes the Sonoran Dog. It's like a snu...   \n",
            "1  2014-11-12 14:12:20  Upland is a brewery based out of Bloomington, ...   \n",
            "1  2014-11-12 14:12:20  Upland is a brewery based out of Bloomington, ...   \n",
            "2  2017-02-19 13:32:05  First time there and it was excellent!!! It fe...   \n",
            "3  2015-04-15 15:30:48  Food was good- atmosphere/decor is like a fish...   \n",
            "\n",
            "   review_count_x        yelping_since  fans  average_stars       city state  \\\n",
            "0              50  2009-09-29 22:24:04     2           4.27     Tucson    AZ   \n",
            "1             117  2012-11-05 19:15:16     2           3.17     Carmel    IN   \n",
            "1             117  2012-11-05 19:15:16     2           3.17     Carmel    IN   \n",
            "2             116  2016-09-17 17:19:31     1           4.47  Eddystone    PA   \n",
            "3              30  2013-05-06 02:52:17     2           4.30       Lutz    FL   \n",
            "\n",
            "    latitude   longitude  stars  restaurant_review_count  is_open  \\\n",
            "0  32.255834 -110.960560    4.0                      492        1   \n",
            "1  39.956925  -86.142974    4.0                      244        1   \n",
            "1  39.956925  -86.142974    4.0                      244        1   \n",
            "2  39.865032  -75.344051    4.0                      137        1   \n",
            "3  28.190021  -82.540430    3.5                       86        0   \n",
            "\n",
            "    categories  BusinessAcceptsCreditCards  RestaurantsPriceRange2  \\\n",
            "0  Restaurants                        True                     2.0   \n",
            "1         Food                        True                     2.0   \n",
            "1  Restaurants                        True                     2.0   \n",
            "2  Restaurants                        True                     2.0   \n",
            "3  Restaurants                        True                     2.0   \n",
            "\n",
            "   RestaurantsTakeOut  RestaurantsDelivery  \\\n",
            "0                True                 True   \n",
            "1                True                 True   \n",
            "1                True                 True   \n",
            "2                True                 True   \n",
            "3                True                False   \n",
            "\n",
            "                                     BusinessParking  OutdoorSeating  HasTV  \\\n",
            "0  {'garage': False, 'street': False, 'validated'...            True   True   \n",
            "1  {'garage': False, 'street': False, 'validated'...            True   True   \n",
            "1  {'garage': False, 'street': False, 'validated'...            True   True   \n",
            "2  {'garage': False, 'street': False, 'validated'...            True   True   \n",
            "3  {'garage': False, 'street': False, 'validated'...           False   True   \n",
            "\n",
            "   RestaurantsReservations  GoodForKids  RestaurantsTableService  \\\n",
            "0                    False         True                    False   \n",
            "1                     True         True                     True   \n",
            "1                     True         True                     True   \n",
            "2                     True         True                     True   \n",
            "3                     True         True                    False   \n",
            "\n",
            "   RestaurantsGoodForGroups  DriveThru  NoiseLevel   BYOB  Corkage  \\\n",
            "0                      True       True  u'average'  False    False   \n",
            "1                      True      False  u'average'  False    False   \n",
            "1                      True      False  u'average'  False    False   \n",
            "2                      True      False    u'quiet'   True    False   \n",
            "3                      True      False  u'average'  False    False   \n",
            "\n",
            "   Open24Hours  RestaurantsCounterService      Monday     Tuesday   Wednesday  \\\n",
            "0        False                      False     0:0-0:0   10:0-21:0   10:0-21:0   \n",
            "1        False                      False     0:0-0:0   11:0-22:0   11:0-22:0   \n",
            "1        False                      False     0:0-0:0   11:0-22:0   11:0-22:0   \n",
            "2        False                      False  16:30-21:0  16:30-21:0  16:30-21:0   \n",
            "3        False                      False  11:30-21:0  11:30-21:0  11:30-21:0   \n",
            "\n",
            "     Thursday      Friday    Saturday      Sunday  RestaurantsAttire_nan  \\\n",
            "0   10:0-22:0   10:0-15:0   10:0-23:0   10:0-21:0                  False   \n",
            "1   11:0-22:0    11:0-0:0    11:0-0:0   11:0-22:0                  False   \n",
            "1   11:0-22:0    11:0-0:0    11:0-0:0   11:0-22:0                  False   \n",
            "2  16:30-21:0  16:30-22:0  16:30-22:0  16:30-21:0                  False   \n",
            "3  11:30-21:0  11:30-22:0  11:30-22:0  11:30-21:0                  False   \n",
            "\n",
            "   Alcohol_none  sentiment_score  Alcohol_full_bar  Alcohol_beer_and_wine  \\\n",
            "0         False           0.9764              True                  False   \n",
            "1         False           0.9633             False                   True   \n",
            "1         False           0.9633             False                   True   \n",
            "2          True           0.9410             False                  False   \n",
            "3         False           0.8625              True                  False   \n",
            "\n",
            "   RestaurantsAttire_casual  RestaurantsAttire_dressy  \\\n",
            "0                      True                     False   \n",
            "1                      True                     False   \n",
            "1                      True                     False   \n",
            "2                      True                     False   \n",
            "3                      True                     False   \n",
            "\n",
            "   RestaurantsAttire_formal  touristy  hipster  romantic  divey  intimate  \\\n",
            "0                     False     False    False     False  False     False   \n",
            "1                     False     False    False     False  False     False   \n",
            "1                     False     False    False     False  False     False   \n",
            "2                     False     False    False     False  False      True   \n",
            "3                     False     False    False     False  False     False   \n",
            "\n",
            "   trendy  upscale  classy  casual  dessert  latenight  lunch  dinner  brunch  \\\n",
            "0   False    False   False    True    False      False   True    True   False   \n",
            "1   False    False   False    True    False      False  False    True   False   \n",
            "1   False    False   False    True    False      False  False    True   False   \n",
            "2   False    False   False    True    False      False  False    True   False   \n",
            "3   False    False   False    True    False      False  False   False   False   \n",
            "\n",
            "   breakfast  \n",
            "0      False  \n",
            "1      False  \n",
            "1      False  \n",
            "2      False  \n",
            "3      False  \n"
          ]
        }
      ]
    },
    {
      "cell_type": "code",
      "source": [
        "# Step 1: Calculate user average category rating\n",
        "user_avg_category_rating = (\n",
        "    restaurant_food_data.groupby('user_id')['stars']\n",
        "    .mean()\n",
        "    .reset_index()\n",
        "    .rename(columns={'stars': 'user_AvgRestaurantCat_rating'})\n",
        ")\n",
        "\n",
        "# Step 2: Merge back to the original data DataFrame\n",
        "data = data.merge(\n",
        "    data,\n",
        "    user_avg_category_rating,\n",
        "    on='user_id',  # Match by user_id\n",
        "    how='left'     # Preserve all rows in the original data\n",
        ")\n",
        "\n",
        "# Step 3: Fill any missing values (if a user_id has no rating in \"Restaurants\" or \"Food\")\n",
        "data['user_AvgRestaurantCat_rating'] = data['user_AvgRestaurantCat_rating'].fillna(0)\n",
        "\n",
        "# Check the resulting DataFrame\n",
        "print(data[['user_id', 'user_AvgRestaurantCat_rating']].head())"
      ],
      "metadata": {
        "colab": {
          "base_uri": "https://localhost:8080/"
        },
        "collapsed": true,
        "id": "dRBRtwPDB4e9",
        "outputId": "f4ad595e-30a9-4f2f-b558-041df78d01c9"
      },
      "execution_count": null,
      "outputs": [
        {
          "output_type": "stream",
          "name": "stdout",
          "text": [
            "                  user_id  user_AvgRestaurantCat_rating\n",
            "0  4Uh27DgGzsp6PqrH913giQ                      3.964286\n",
            "1  WBpQDAZymU0dhIqXcACGNw                      3.615385\n",
            "2  Jha0USGDMefGFRLik_xFQg                      3.307692\n",
            "3  yobeeTUBfaTBcnk26mXNuA                      3.595238\n",
            "4  G0DHgkSsDozqUPWtlxVEMw                      3.833333\n"
          ]
        }
      ]
    },
    {
      "cell_type": "code",
      "source": [
        "# Convert the 'categories' column back to comma-separated strings\n",
        "data['categories'] = data['categories'].apply(lambda x: ', '.join(x) if isinstance(x, list) else x)\n",
        "user_avg_category_rating['categories'] = user_avg_category_rating['categories'].apply(lambda x: ', '.join(x) if isinstance(x, list) else x)"
      ],
      "metadata": {
        "id": "zj32zQ8JQuc2"
      },
      "execution_count": null,
      "outputs": []
    },
    {
      "cell_type": "code",
      "source": [
        "# Calculate variance of user's ratings\n",
        "user_rating_variance = (\n",
        "    data.groupby('user_id')['stars']\n",
        "    .var()\n",
        "    .reset_index()\n",
        "    .rename(columns={'stars': 'user_rating_variance'})\n",
        ")\n",
        "\n",
        "# Merge the variance back into the main DataFrame on user_id\n",
        "data = data.merge(user_rating_variance, on='user_id', how='left')"
      ],
      "metadata": {
        "id": "5JtZtrZ1Ifrc"
      },
      "execution_count": null,
      "outputs": []
    },
    {
      "cell_type": "code",
      "source": [
        "# Assuming the column name for the date is 'review_date'\n",
        "data['date'] = pd.to_datetime(data['date'], errors='coerce')\n",
        "\n",
        "def categorize_time_of_day(hour):\n",
        "    if 5 <= hour < 12:\n",
        "        return 'morning'\n",
        "    elif 12 <= hour < 17:\n",
        "        return 'afternoon'\n",
        "    elif 17 <= hour < 21:\n",
        "        return 'evening'\n",
        "    else:\n",
        "        return 'night'\n",
        "\n",
        "data['hour_of_day'] = data['date'].dt.hour\n",
        "data['time_of_day'] = data['hour_of_day'].apply(categorize_time_of_day)\n",
        "\n",
        "data['day_of_week'] = data['date'].dt.day_name()\n",
        "data['is_weekend'] = data['day_of_week'].isin(['Saturday', 'Sunday'])"
      ],
      "metadata": {
        "id": "V1iSu8ewJfNE"
      },
      "execution_count": null,
      "outputs": []
    },
    {
      "cell_type": "code",
      "source": [
        "# List of the 15 best food cities\n",
        "best_food_cities = [\n",
        "    \"New Orleans\", \"New York City\", \"Chicago\", \"Los Angeles\", \"San Francisco\",\n",
        "    \"Philadelphia\", \"Las Vegas\", \"Houston\", \"Portland Maine\", \"Austin\",\n",
        "    \"Honolulu Oahu\", \"Boston\", \"Denver\", \"Atlanta\", \"Louisville\"\n",
        "]\n",
        "\n",
        "# Step 1: Standardize city names in the dataset\n",
        "data['city'] = data['city'].str.strip().str.title()\n",
        "\n",
        "# Step 2: Create a new column indicating if the city is in the list of best food cities\n",
        "data['is_in_best_food_city'] = data['city'].isin(best_food_cities)"
      ],
      "metadata": {
        "id": "ARUxZzu2OfQH"
      },
      "execution_count": null,
      "outputs": []
    },
    {
      "cell_type": "code",
      "source": [
        "# Install VADER (if not installed already)\n",
        "!pip install vaderSentiment\n",
        "\n",
        "import pandas as pd\n",
        "from vaderSentiment.vaderSentiment import SentimentIntensityAnalyzer\n",
        "\n",
        "# Initialize Sentiment Analyzer\n",
        "analyzer = SentimentIntensityAnalyzer()"
      ],
      "metadata": {
        "id": "rZSnyOPhNAqo"
      },
      "execution_count": null,
      "outputs": []
    },
    {
      "cell_type": "code",
      "source": [
        "# Sentiment Analysis using VADER\n",
        "from vaderSentiment.vaderSentiment import SentimentIntensityAnalyzer\n",
        "analyzer = SentimentIntensityAnalyzer()"
      ],
      "metadata": {
        "id": "7WkGPScvNEIH"
      },
      "execution_count": null,
      "outputs": []
    },
    {
      "cell_type": "code",
      "source": [
        "# Sample sentiment on review texts\n",
        "def analyze_sentiment(text):\n",
        "    if pd.isnull(text) or text.strip() == \"\":\n",
        "        return 0  # Neutral sentiment for missing or empty reviews\n",
        "    score = analyzer.polarity_scores(text)\n",
        "    return score['compound']"
      ],
      "metadata": {
        "id": "SMKctwuxOUFj"
      },
      "execution_count": null,
      "outputs": []
    },
    {
      "cell_type": "code",
      "source": [
        "# Apply sentiment scoring\n",
        "data['sentiment_score'] = data['text'].apply(analyze_sentiment)\n",
        "print(f\"Sentiment scores added to the dataset.\")"
      ],
      "metadata": {
        "id": "EOEvJayCOfF5"
      },
      "execution_count": null,
      "outputs": []
    },
    {
      "cell_type": "code",
      "source": [
        "# Export the DataFrame to a CSV file\n",
        "data.to_csv('cleaned_data.csv', index=False)"
      ],
      "metadata": {
        "id": "kZVlZO5DJ_Rc"
      },
      "execution_count": null,
      "outputs": []
    },
    {
      "cell_type": "code",
      "source": [
        "# # Step 1: Combine redundant dummy columns for each attire category\n",
        "# data['RestaurantsAttire_casual'] = data['RestaurantsAttire_\\'casual\\''] | data['RestaurantsAttire_u\\'casual\\'']\n",
        "# data['RestaurantsAttire_dressy'] = data['RestaurantsAttire_\\'dressy\\''] | data['RestaurantsAttire_u\\'dressy\\'']\n",
        "# data['RestaurantsAttire_formal'] = data['RestaurantsAttire_\\'formal\\''] | data['RestaurantsAttire_u\\'formal\\'']\n",
        "\n",
        "# # Step 2: Handle the 'nan' category if necessary (drop it or include as None)\n",
        "# # Option 1: Ignore 'nan' and focus on existing categories (comment if you don't want this step)\n",
        "# # data.drop(columns=['RestaurantsAttire_nan'], inplace=True)\n",
        "\n",
        "# # Option 2: Include 'nan' as an explicit column (Uncomment if needed)\n",
        "# data['RestaurantsAttire_none'] = data['RestaurantsAttire_nan'] | False\n",
        "\n",
        "# # Step 3: Drop the original redundant columns\n",
        "# # columns_to_drop = [\n",
        "# #     'RestaurantsAttire_\\'casual\\'', 'RestaurantsAttire_u\\'casual\\'',\n",
        "# #     'RestaurantsAttire_\\'dressy\\'', 'RestaurantsAttire_u\\'dressy\\'',\n",
        "# #     'RestaurantsAttire_\\'formal\\'', 'RestaurantsAttire_u\\'formal\\''\n",
        "# # ]\n",
        "# # data.drop(columns=columns_to_drop, inplace=True)\n"
      ],
      "metadata": {
        "id": "YIe3K2Yd584M"
      },
      "execution_count": null,
      "outputs": []
    },
    {
      "cell_type": "code",
      "source": [
        "# # Step 1: Create consolidated dummy columns for each alcohol category\n",
        "# data['Alcohol_full_bar'] = data['Alcohol_\\'full_bar\\''] | data['Alcohol_u\\'full_bar\\'']\n",
        "# data['Alcohol_beer_and_wine'] = data['Alcohol_\\'beer_and_wine\\''] | data['Alcohol_u\\'beer_and_wine\\'']\n",
        "# data['Alcohol_none'] = data['Alcohol_\\'none\\''] | data['Alcohol_u\\'none\\''] | data['Alcohol_none']\n",
        "\n",
        "# # Step 2: Drop the redundant columns\n",
        "# columns_to_drop = [\n",
        "#     'Alcohol_\\'full_bar\\'', 'Alcohol_u\\'full_bar\\'',\n",
        "#     'Alcohol_\\'beer_and_wine\\'', 'Alcohol_u\\'beer_and_wine\\'',\n",
        "#     'Alcohol_\\'none\\'', 'Alcohol_u\\'none\\''\n",
        "# ]\n",
        "# data.drop(columns=columns_to_drop, inplace=True)"
      ],
      "metadata": {
        "id": "OJnZhzI35irK"
      },
      "execution_count": null,
      "outputs": []
    }
  ],
  "metadata": {
    "colab": {
      "provenance": [],
      "include_colab_link": true
    },
    "kernelspec": {
      "display_name": "Python 3",
      "name": "python3"
    },
    "language_info": {
      "name": "python"
    }
  },
  "nbformat": 4,
  "nbformat_minor": 0
}